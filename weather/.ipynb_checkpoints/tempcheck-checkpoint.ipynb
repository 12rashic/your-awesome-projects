{
 "cells": [
  {
   "cell_type": "code",
   "execution_count": 1,
   "metadata": {},
   "outputs": [],
   "source": [
    "import requests,json\n",
    "from json import *\n",
    "from PyQt5 import QtWidgets,uic\n",
    "import sys\n",
    "import pymysql"
   ]
  },
  {
   "cell_type": "code",
   "execution_count": null,
   "metadata": {},
   "outputs": [],
   "source": []
  },
  {
   "cell_type": "code",
   "execution_count": 2,
   "metadata": {},
   "outputs": [],
   "source": [
    "def tempc():\n",
    "    v=0\n",
    "    api_key=\"fd9bd3883793e4416d52e6e572c35b34\"\n",
    "    base_url=\"http://api.openweathermap.org/data/2.5/weather?\"\n",
    "    city=temp.ip.text()\n",
    "    complete=base_url+\"appid=\"+api_key+\"&q=\"+city+\"&units=metric\"\n",
    "    respose=requests.get(complete)\n",
    "    x=respose.json()\n",
    "    if x[\"cod\"] !=\"404\":\n",
    "        y=x[\"main\"]\n",
    "        v+=1\n",
    "        current_temp=y[\"temp\"]\n",
    "        temp.op.setText(\"Temp=\"+str(current_temp)+\"°C\")\n",
    "        con=pymysql.connect('localhost','root','','pyqt5')\n",
    "        conn=con.cursor()\n",
    "        q1=\"insert into hi1(city,temp) values('{}',{})\".format(city,current_temp)\n",
    "        conn.execute(q1)\n",
    "        con.commit()\n",
    "        con.close\n",
    "    else:\n",
    "        temp.op.setText(\"Enter a valid city Name\")"
   ]
  },
  {
   "cell_type": "code",
   "execution_count": 3,
   "metadata": {},
   "outputs": [],
   "source": [
    "\n",
    "def myconvt(mydata):\n",
    "    def cvt(data):\n",
    "        try:\n",
    "            return ast.literal_eval(data)\n",
    "        except Exception:\n",
    "            return str(data)\n",
    "    return tuple(map(cvt,mydata))"
   ]
  },
  {
   "cell_type": "code",
   "execution_count": 4,
   "metadata": {},
   "outputs": [],
   "source": [
    "def Localdata():\n",
    "    db=pymysql.connect('localhost','root','','pyqt5')\n",
    "    \n",
    "    cur=db.cursor()\n",
    "    rows=cur.execute(\"select * from hi1\")\n",
    "    data=cur.fetchall()\n",
    "    for row in data:\n",
    "        addTable(myconvt(row))\n",
    "    cur.close()\n",
    "def addTable(column):\n",
    "    rowpos=temp.history.rowCount()\n",
    "    temp.history.insertRow(rowpos)\n",
    "    for i,column in enumerate(column):\n",
    "        temp.history.setItem(rowpos,i,QtWidgets.QTableWidgetItem(str(column))) \n",
    "    "
   ]
  },
  {
   "cell_type": "code",
   "execution_count": 5,
   "metadata": {
    "scrolled": true
   },
   "outputs": [
    {
     "ename": "SystemExit",
     "evalue": "0",
     "output_type": "error",
     "traceback": [
      "An exception has occurred, use %tb to see the full traceback.\n",
      "\u001b[1;31mSystemExit\u001b[0m\u001b[1;31m:\u001b[0m 0\n"
     ]
    },
    {
     "name": "stderr",
     "output_type": "stream",
     "text": [
      "C:\\anaconda\\lib\\site-packages\\IPython\\core\\interactiveshell.py:3351: UserWarning: To exit: use 'exit', 'quit', or Ctrl-D.\n",
      "  warn(\"To exit: use 'exit', 'quit', or Ctrl-D.\", stacklevel=1)\n"
     ]
    }
   ],
   "source": [
    "\n",
    "app=QtWidgets.QApplication([])\n",
    "temp=uic.loadUi('temp.ui')\n",
    "temp.show()\n",
    "Localdata()\n",
    "temp.check.clicked.connect(tempc)\n",
    "sys.exit(app.exec_())"
   ]
  },
  {
   "cell_type": "code",
   "execution_count": 8,
   "metadata": {},
   "outputs": [],
   "source": []
  },
  {
   "cell_type": "code",
   "execution_count": null,
   "metadata": {},
   "outputs": [],
   "source": []
  },
  {
   "cell_type": "code",
   "execution_count": null,
   "metadata": {},
   "outputs": [],
   "source": []
  }
 ],
 "metadata": {
  "kernelspec": {
   "display_name": "Python 3",
   "language": "python",
   "name": "python3"
  },
  "language_info": {
   "codemirror_mode": {
    "name": "ipython",
    "version": 3
   },
   "file_extension": ".py",
   "mimetype": "text/x-python",
   "name": "python",
   "nbconvert_exporter": "python",
   "pygments_lexer": "ipython3",
   "version": "3.8.3"
  }
 },
 "nbformat": 4,
 "nbformat_minor": 4
}
