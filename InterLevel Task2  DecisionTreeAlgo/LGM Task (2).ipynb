# -*- coding: utf-8 -*-
"""
Created on Mon Aug 16 14:10:35 2021

@author: YOGENDER SINGH
"""

                  """          LGM Internship - Lets Grow More


                                  Intermediate LEVEL TASK

                               Task2 - VIP Data Science Task


                                 Author: Yogender Singh

                          Prediction using Decision Tree  Algorithm  """
                          
# IMPORTING LIBRARIES

 import pandas as pd
import numpy as np
import matplotlib.pyplot as plt
import seaborn as sns                           

#IMPORTING DATA SET

data = pd.read_csv('iris.csv')
data.head()

data.tail()
data.shape

data.columns

data.Species.unique()
data.isnull().sum()

data.describe()

data.corr()


sns.heatmap(data.corr() , cmap = "twilight_r")

sns.pairplot(data, hue = 'Species', vars = ['SepalLengthCm', 'SepalWidthCm', 'PetalLengthCm', 'PetalWidthCm'])

sns.heatmap(data.corr(),annot=True)

sns.catplot(x ='Species',y ='PetalLengthCm', data = data)


# doing encoding

x = data.iloc[:,[1,2,3,4]].values
y = data.iloc[:,-1].values

from sklearn.preprocessing import OneHotEncoder
ohe = OneHotEncoder(sparse = False)
y_new = ohe.fit_transform(data[['Species']])

y_new

df = pd.DataFrame(y_new)
df.rename(columns={0:'Iris-setosa', 1:'Iris-versicolor', 2:'Iris-virginica'}, inplace=True)
df.head()

result = pd.concat([data,df] ,axis = 1)
result.head()

result
new_x = result.iloc[:,[1,2,3,4]].values
new_y = result.iloc[:,[5,6,7]].values

#i=IMPORTING LIBRARIES FOR TEST AND TRAINING DATA
from sklearn.model_selection import train_test_split
from sklearn.tree import DecisionTreeClassifier

train_x,test_x,train_y,test_y = train_test_split(new_x ,new_y ,test_size = 0.2 ,random_state = 1)

print("Shape of train_x is {}".format(train_x.shape))
print("Shape of train_y is {}".format(train_y.shape))
print("Shape of test_x is  {}".format(test_x.shape))
print("Shape of test_y is  {}".format(test_y.shape))



pip install dtc

data = data.copy()
x = data.iloc[:,1:4]
y = data.iloc[:,-1]

from sklearn.model_selection import train_test_split

x_train,x_test,y_train,y_test = train_test_split(x,y,test_size=0.25,random_state=43)

print(x_train.shape)
print(y_train.shape)
print(y_test.shape)
print(x_test.shape)



                                # Applying Decision Tree Algorithm on the model:
                                    
from sklearn.tree import DecisionTreeClassifier,plot_tree
from sklearn.metrics import accuracy_score,classification_report
from sklearn.metrics import confusion_matrix
from sklearn.metrics import r2_score
from sklearn.metrics import mean_absolute_error
clf = DecisionTreeClassifier()
clf.fit(x_train,y_train)
y_pred = clf.predict(x_test)                       

print(classification_report(y_test,y_pred))             
print("Training Score: ",clf.score(x_train,y_train))


print(accuracy_score(y_test,y_pred))

print(confusion_matrix(y_test,y_pred))


data = {'y_Actual': y_test,
        'y_Predicted': y_pred
        }

df = pd.DataFrame(data)
df.reset_index(inplace = True, drop = True)
df.head()



pip install clf
                        # To make predictions on the test dataset

pred=clf.predict(x_test)  
print(pred)

print(clf.score(x_test,y_test))

from sklearn import tree
feature_names = ['SepalLengthCm','SepalWidthCm','PetalLengthCm','PetalWidthCm']
class_names = ['Iris-setosa','Iris-versicolor','Iris-virginica']
fig,ax = plt.subplots(nrows=1,ncols=1,figsize=(5,5),dpi=250,facecolor='white')
tree.plot_tree(clf,feature_names=feature_names,class_names=class_names,filled=True);
fig.savefig('IrisTree.png')













